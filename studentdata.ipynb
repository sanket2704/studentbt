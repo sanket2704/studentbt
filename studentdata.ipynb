{
  "metadata": {
    "language_info": {
      "codemirror_mode": {
        "name": "python",
        "version": 3
      },
      "file_extension": ".py",
      "mimetype": "text/x-python",
      "name": "python",
      "nbconvert_exporter": "python",
      "pygments_lexer": "ipython3",
      "version": "3.8"
    },
    "kernelspec": {
      "name": "python",
      "display_name": "Python (Pyodide)",
      "language": "python"
    }
  },
  "nbformat_minor": 4,
  "nbformat": 4,
  "cells": [
    {
      "cell_type": "code",
      "source": "// SPDX-License-Identifier: MIT\npragma solidity ^0.6;\ncontract Student_management\n{\nstruct Student {\n int stud_id;\n string name;\n string department;\n }\n Student[] Students;\n function add_stud(int stud_id,string memory name, string memory department) public{\n Student memory stud = Student(stud_id,name,department);\n Students.push(stud);\n }\n function getStudent(int stud_id) public view returns(string memory, string memory){\n for (uint i=0;i<Students.length;i++){\n Student memory stud = Students[i];\n if(stud.stud_id==stud_id){\n return(stud.name,stud.department);\n }\n }\n return(\"Not Found\", \"Not Found\");\n }\n}\n\n",
      "metadata": {},
      "execution_count": null,
      "outputs": []
    }
  ]
}